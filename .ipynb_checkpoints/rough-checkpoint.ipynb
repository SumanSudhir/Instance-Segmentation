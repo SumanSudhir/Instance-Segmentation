{
 "cells": [
  {
   "cell_type": "code",
   "execution_count": 8,
   "metadata": {},
   "outputs": [],
   "source": [
    "# import better_exceptions\n",
    "from pathlib import Path\n",
    "import json\n",
    "from collections import defaultdict\n",
    "import pandas as pd\n",
    "import numpy as np"
   ]
  },
  {
   "cell_type": "code",
   "execution_count": 15,
   "metadata": {},
   "outputs": [],
   "source": [
    "json_path = Path(\"__file__\").parent.joinpath(\"datasets\", \"challenge-2019-label300-segmentable-hierarchy.json\")"
   ]
  },
  {
   "cell_type": "code",
   "execution_count": 16,
   "metadata": {},
   "outputs": [
    {
     "data": {
      "text/plain": [
       "PosixPath('datasets/challenge-2019-label300-segmentable-hierarchy.json')"
      ]
     },
     "execution_count": 16,
     "metadata": {},
     "output_type": "execute_result"
    }
   ],
   "source": [
    "json_path"
   ]
  },
  {
   "cell_type": "code",
   "execution_count": 17,
   "metadata": {},
   "outputs": [],
   "source": [
    "df = pd.read_csv(str(json_path), header=None, names=[\"class_string\"])"
   ]
  },
  {
   "cell_type": "code",
   "execution_count": 19,
   "metadata": {},
   "outputs": [],
   "source": [
    "with json_path.open(\"r\") as f:\n",
    "    d = json.load(f)"
   ]
  },
  {
   "cell_type": "code",
   "execution_count": null,
   "metadata": {},
   "outputs": [],
   "source": [
    "d"
   ]
  },
  {
   "cell_type": "code",
   "execution_count": 21,
   "metadata": {},
   "outputs": [],
   "source": [
    "def get_hierarchy():\n",
    "    json_path = Path(\"__file__\").parent.joinpath(\"datasets\", \"challenge-2019-label300-segmentable-hierarchy.json\")\n",
    "\n",
    "    with json_path.open(\"r\") as f:\n",
    "        d = json.load(f)\n",
    "\n",
    "    level_to_class_strings = defaultdict(list)\n",
    "    class_string_to_parent = {}\n",
    "\n",
    "    def register(c,level):\n",
    "        class_string = c[\"LabelName\"]\n",
    "        level_to_class_strings[level].append(class_string)\n",
    "\n",
    "        if \"Subcategory\" in c.keys():\n",
    "            for sub_c in c[\"Subcategory\"]:\n",
    "                class_string_to_parent[sub_c[\"LabelName\"]] = class_string\n",
    "                register(sub_c, level+1)\n",
    "\n",
    "    for c in d[\"Subcategory\"]:\n",
    "        register(c,0)\n",
    "\n",
    "    class_string_to_parent[\"/m/0kmg4\"] = \"/m/0138t1\"   #teddy bear is toy not bear\n",
    "    layer0 = level_to_class_strings[0]\n",
    "    layer1 = list(set(level_to_class_strings[1] + level_to_class_strings[2]))\n",
    "    return sorted(layer0), sorted(layer1), class_string_to_parent"
   ]
  },
  {
   "cell_type": "code",
   "execution_count": 22,
   "metadata": {},
   "outputs": [],
   "source": [
    "x,y,z = get_hierarchy()"
   ]
  },
  {
   "cell_type": "code",
   "execution_count": null,
   "metadata": {},
   "outputs": [],
   "source": [
    "def get_string_to_name():\n",
    "    csv_path = Path(\"__file__\").parent.joinpath(\"datasets\", \"challenge-2019-classes-description-segmentable.csv\")\n",
    "    df = pd.read_csv(str(csv_path), header=None, names=[\"class_string\", \"class_name\"])\n",
    "    class_string_to_name = dict(zip(df.class_string,df.class_name))\n",
    "    return class_string_to_name"
   ]
  },
  {
   "cell_type": "code",
   "execution_count": null,
   "metadata": {},
   "outputs": [],
   "source": [
    "z"
   ]
  },
  {
   "cell_type": "code",
   "execution_count": null,
   "metadata": {},
   "outputs": [],
   "source": []
  }
 ],
 "metadata": {
  "kernelspec": {
   "display_name": "Python 3",
   "language": "python",
   "name": "python3"
  },
  "language_info": {
   "codemirror_mode": {
    "name": "ipython",
    "version": 3
   },
   "file_extension": ".py",
   "mimetype": "text/x-python",
   "name": "python",
   "nbconvert_exporter": "python",
   "pygments_lexer": "ipython3",
   "version": "3.7.3"
  }
 },
 "nbformat": 4,
 "nbformat_minor": 4
}
