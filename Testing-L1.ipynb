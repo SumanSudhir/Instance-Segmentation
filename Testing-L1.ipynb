{
 "cells": [
  {
   "cell_type": "code",
   "execution_count": 18,
   "metadata": {},
   "outputs": [],
   "source": [
    "import os\n",
    "import sys\n",
    "import random\n",
    "import math\n",
    "import re\n",
    "import time\n",
    "import numpy as np\n",
    "import tensorflow as tf\n",
    "import matplotlib\n",
    "import matplotlib.pyplot as plt\n",
    "import matplotlib.patches as patches\n",
    "\n",
    "# Root directory of the project\n",
    "#ROOT_DIR = os.path.abspath(\"../../\")\n",
    "\n",
    "# Import Mask RCNN\n",
    "#sys.path.append(ROOT_DIR)  # To find local version of the library\n",
    "import utils\n",
    "import visualize\n",
    "from visualize import display_images\n",
    "import model as modellib\n",
    "from model import log\n",
    "\n",
    "%matplotlib inline \n",
    "\n",
    "# Directory to save logs and trained model\n",
    "MODEL_DIR = os.path.join(os.getcwd(), \"trainlogs\")\n",
    "\n",
    "# Local path to trained weights file\n",
    "#COCO_MODEL_PATH = os.path.join(ROOT_DIR, \"mask_rcnn_coco.h5\")\n",
    "# Download COCO trained weights from Releases if needed\n",
    "#if not os.path.exists(COCO_MODEL_PATH):\n",
    "#    utils.download_trained_weights(COCO_MODEL_PATH)\n",
    "\n",
    "# Path to Shapes trained weights\n",
    "COCO_MODEL_PATH = os.path.join(os.getcwd(), \"cocolayer1output/mask_rcnn_coco_0160.h5\")"
   ]
  },
  {
   "cell_type": "code",
   "execution_count": 19,
   "metadata": {},
   "outputs": [],
   "source": [
    "# Run one of the code blocks\n",
    "\n",
    "# Shapes toy dataset\n",
    "# import shapes\n",
    "# config = shapes.ShapesConfig()\n",
    "\n",
    "# MS COCO Dataset\n",
    "import coco\n",
    "config = coco.CocoConfig()\n",
    "COCO_DIR = \"datasets/cocoL1\"  # TODO: enter value here"
   ]
  },
  {
   "cell_type": "code",
   "execution_count": 20,
   "metadata": {},
   "outputs": [
    {
     "name": "stdout",
     "output_type": "stream",
     "text": [
      "\n",
      "Configurations:\n",
      "BACKBONE                       resnet101\n",
      "BACKBONE_STRIDES               [4, 8, 16, 32, 64]\n",
      "BATCH_SIZE                     1\n",
      "BBOX_STD_DEV                   [0.1 0.1 0.2 0.2]\n",
      "COMPUTE_BACKBONE_SHAPE         None\n",
      "DETECTION_MAX_INSTANCES        100\n",
      "DETECTION_MIN_CONFIDENCE       0.7\n",
      "DETECTION_NMS_THRESHOLD        0.3\n",
      "FPN_CLASSIF_FC_LAYERS_SIZE     1024\n",
      "GPU_COUNT                      1\n",
      "GRADIENT_CLIP_NORM             5.0\n",
      "IMAGES_PER_GPU                 1\n",
      "IMAGE_CHANNEL_COUNT            3\n",
      "IMAGE_MAX_DIM                  1024\n",
      "IMAGE_META_SIZE                100\n",
      "IMAGE_MIN_DIM                  800\n",
      "IMAGE_MIN_SCALE                0\n",
      "IMAGE_RESIZE_MODE              square\n",
      "IMAGE_SHAPE                    [1024 1024    3]\n",
      "LEARNING_MOMENTUM              0.9\n",
      "LEARNING_RATE                  0.001\n",
      "LOSS_WEIGHTS                   {'rpn_class_loss': 1.0, 'rpn_bbox_loss': 1.0, 'mrcnn_class_loss': 1.0, 'mrcnn_bbox_loss': 1.0, 'mrcnn_mask_loss': 1.0}\n",
      "MASK_POOL_SIZE                 14\n",
      "MASK_SHAPE                     [28, 28]\n",
      "MAX_GT_INSTANCES               100\n",
      "MEAN_PIXEL                     [123.7 116.8 103.9]\n",
      "MINI_MASK_SHAPE                (56, 56)\n",
      "NAME                           coco\n",
      "NUM_CLASSES                    88\n",
      "POOL_SIZE                      7\n",
      "POST_NMS_ROIS_INFERENCE        1000\n",
      "POST_NMS_ROIS_TRAINING         2000\n",
      "PRE_NMS_LIMIT                  6000\n",
      "ROI_POSITIVE_RATIO             0.33\n",
      "RPN_ANCHOR_RATIOS              [0.5, 1, 2]\n",
      "RPN_ANCHOR_SCALES              (32, 64, 128, 256, 512)\n",
      "RPN_ANCHOR_STRIDE              1\n",
      "RPN_BBOX_STD_DEV               [0.1 0.1 0.2 0.2]\n",
      "RPN_NMS_THRESHOLD              0.7\n",
      "RPN_TRAIN_ANCHORS_PER_IMAGE    256\n",
      "STEPS_PER_EPOCH                670\n",
      "TOP_DOWN_PYRAMID_SIZE          256\n",
      "TRAIN_BN                       False\n",
      "TRAIN_ROIS_PER_IMAGE           200\n",
      "USE_MINI_MASK                  True\n",
      "USE_RPN_ROIS                   True\n",
      "VALIDATION_STEPS               50\n",
      "WEIGHT_DECAY                   0.0001\n",
      "\n",
      "\n"
     ]
    }
   ],
   "source": [
    "# Override the training configurations with a few\n",
    "# changes for inferencing.\n",
    "class InferenceConfig(config.__class__):\n",
    "    # Run detection on one image at a time\n",
    "    GPU_COUNT = 1\n",
    "    IMAGES_PER_GPU = 1\n",
    "    NUM_CLASSES = 1 + 87\n",
    "\n",
    "config = InferenceConfig()\n",
    "config.display()"
   ]
  },
  {
   "cell_type": "code",
   "execution_count": 21,
   "metadata": {},
   "outputs": [],
   "source": [
    "# Device to load the neural network on.\n",
    "# Useful if you're training a model on the same \n",
    "# machine, in which case use CPU and leave the\n",
    "# GPU for training.\n",
    "DEVICE = \"/gpu:1\"  # /cpu:0 or /gpu:0\n",
    "\n",
    "# Inspect the model in training or inference modes\n",
    "# values: 'inference' or 'training'\n",
    "# TODO: code for 'training' test mode not ready yet\n",
    "TEST_MODE = \"inference\""
   ]
  },
  {
   "cell_type": "code",
   "execution_count": 22,
   "metadata": {},
   "outputs": [],
   "source": [
    "def get_ax(rows=1, cols=1, size=16):\n",
    "    \"\"\"Return a Matplotlib Axes array to be used in\n",
    "    all visualizations in the notebook. Provide a\n",
    "    central point to control graph sizes.\n",
    "    \n",
    "    Adjust the size attribute to control how big to render images\n",
    "    \"\"\"\n",
    "    _, ax = plt.subplots(rows, cols, figsize=(size*cols, size*rows))\n",
    "    return ax"
   ]
  },
  {
   "cell_type": "code",
   "execution_count": 23,
   "metadata": {},
   "outputs": [
    {
     "name": "stdout",
     "output_type": "stream",
     "text": [
      "loading annotations into memory...\n",
      "Done (t=0.57s)\n",
      "creating index...\n",
      "index created!\n",
      "Images: 4425\n",
      "Classes: ['BG', '/m/011k07', '/m/0120dh', '/m/01226z', '/m/01599', '/m/01940j', '/m/01bl7v', '/m/01cmb2', '/m/01dws', '/m/01dxs', '/m/01dy8n', '/m/01f8m5', '/m/01j51', '/m/01lcw4', '/m/01s55n', '/m/01yrx', '/m/01yx86', '/m/01z1kdw', '/m/024g6', '/m/025rp__', '/m/027pcv', '/m/029b3', '/m/02fq_6', '/m/02jfl0', '/m/02pv19', '/m/02rgn06', '/m/02vqfm', '/m/02wbtzl', '/m/02zt3', '/m/0306r', '/m/03bt1vf', '/m/03fj2', '/m/03grzl', '/m/03m3pdh', '/m/0449p', '/m/046dlr', '/m/04g2r', '/m/04m9y', '/m/04yqq2', '/m/04yx4', '/m/0584n8', '/m/05_5p_0', '/m/05ctyq', '/m/05n4y', '/m/05r655', '/m/05z6w', '/m/05zsy', '/m/0633h', '/m/06_72j', '/m/06j2d', '/m/06m11', '/m/06pcq', '/m/0703r8', '/m/078jl', '/m/07clx', '/m/07dm6', '/m/080hkjn', '/m/081qc', '/m/096mb', '/m/09b5t', '/m/09csl', '/m/09d5_', '/m/09ddx', '/m/09dzg', '/m/09f_2', '/m/09ld4', '/m/09rvcxw', '/m/0bt9lr', '/m/0by6g', '/m/0c29q', '/m/0ccs93', '/m/0cd4d', '/m/0cdn1', '/m/0cmf2', '/m/0cn6p', '/m/0dbvp', '/m/0dftk', '/m/0dq75', '/m/0f6wt', '/m/0fly7', '/m/0ftb8', '/m/0gv1x', '/m/0h23m', '/m/0h2r6', '/m/0h8my_4', '/m/0jly1', '/m/0kmg4', '/m/0wdt60w']\n"
     ]
    }
   ],
   "source": [
    "# Build validation dataset\n",
    "if config.NAME == \"coco\":\n",
    "    dataset = coco.CocoDataset()\n",
    "    dataset.load_coco(COCO_DIR, \"val\")\n",
    "\n",
    "# Must call before using the dataset\n",
    "dataset.prepare()\n",
    "\n",
    "print(\"Images: {}\\nClasses: {}\".format(len(dataset.image_ids), dataset.class_names))"
   ]
  },
  {
   "cell_type": "code",
   "execution_count": 24,
   "metadata": {},
   "outputs": [
    {
     "name": "stdout",
     "output_type": "stream",
     "text": [
      "Loading weights  /home/jupyter/Segmentation/Mask_RCNN/cocolayer1output/mask_rcnn_coco_0160.h5\n"
     ]
    }
   ],
   "source": [
    "# Create model in inference mode\n",
    "with tf.device(DEVICE):\n",
    "    model = modellib.MaskRCNN(mode=\"inference\", model_dir=MODEL_DIR,\n",
    "                              config=config)\n",
    "\n",
    "# Set weights file path\n",
    "if config.NAME == \"shapes\":\n",
    "    weights_path = SHAPES_MODEL_PATH\n",
    "elif config.NAME == \"coco\":\n",
    "    weights_path = COCO_MODEL_PATH\n",
    "# Or, uncomment to load the last model you trained\n",
    "# weights_path = model.find_last()\n",
    "\n",
    "# Load weights\n",
    "print(\"Loading weights \", weights_path)\n",
    "model.load_weights(weights_path, by_name=True)"
   ]
  },
  {
   "cell_type": "code",
   "execution_count": 25,
   "metadata": {},
   "outputs": [],
   "source": [
    "from pathlib import Path\n",
    "import pandas as pd\n",
    "def get_string_to_name():\n",
    "    csv_path = Path(\"__file__\").parent.joinpath(\"datasets\", \"challenge-2019-classes-description-segmentable.csv\")\n",
    "    df = pd.read_csv(str(csv_path), header=None, names=[\"class_string\", \"class_name\"])\n",
    "    class_string_to_name = dict(zip(df.class_string,df.class_name))\n",
    "    return class_string_to_name"
   ]
  },
  {
   "cell_type": "code",
   "execution_count": 26,
   "metadata": {},
   "outputs": [],
   "source": [
    "string_to_name = get_string_to_name()"
   ]
  },
  {
   "cell_type": "code",
   "execution_count": null,
   "metadata": {},
   "outputs": [],
   "source": []
  },
  {
   "cell_type": "code",
   "execution_count": 27,
   "metadata": {},
   "outputs": [],
   "source": [
    "classes = [\"BG\"] \n",
    "for i in dataset.class_names:\n",
    "    if i != \"BG\":\n",
    "        classes.append(string_to_name[i])"
   ]
  },
  {
   "cell_type": "code",
   "execution_count": 28,
   "metadata": {},
   "outputs": [],
   "source": [
    "DATA_DIR = \"datasets/coco/train2017\"\n",
    "file_names = next(os.walk(DATA_DIR))[2]"
   ]
  },
  {
   "cell_type": "code",
   "execution_count": null,
   "metadata": {},
   "outputs": [],
   "source": [
    "import random\n",
    "import skimage.io\n",
    "# Load a random image from the images folder\n",
    "#file_names = next(os.walk(DATA_DIR))[2]\n",
    "#print(file_names)\n",
    "image = skimage.io.imread(os.path.join(DATA_DIR, random.choice(file_names)))\n",
    "# image = skimage.io.imread(os.path.join(DATA_DIR, file_names[291]))\n",
    "\n",
    "# Run detection\n",
    "results = model.detect([image])\n",
    "\n",
    "# Visualize results\n",
    "r = results[0]\n",
    "visualize.display_instances(image, r['rois'], r['masks'], r['class_ids'], \n",
    "                            classes, r['scores'])"
   ]
  },
  {
   "cell_type": "code",
   "execution_count": 14,
   "metadata": {},
   "outputs": [],
   "source": [
    "import base64\n",
    "import numpy as np\n",
    "from pycocotools import _mask as coco_mask\n",
    "import typing as t\n",
    "import zlib\n",
    "\n",
    "def encode_binary_mask(mask: np.ndarray) -> t.Text:\n",
    "    \"\"\"Converts a binary mask into OID challenge encoding ascii text.\"\"\"\n",
    "\n",
    "    # check input mask --\n",
    "    if mask.dtype != np.bool:\n",
    "        raise ValueError(\"encode_binary_mask expects a binary mask, received dtype == %s\" % mask.dtype)\n",
    "\n",
    "    mask = np.squeeze(mask)\n",
    "    if len(mask.shape) != 2:\n",
    "        raise ValueError(\"encode_binary_mask expects a 2d mask, received shape == %s\" % mask.shape)\n",
    "\n",
    "    # convert input mask to expected COCO API input --\n",
    "    mask_to_encode = mask.reshape(mask.shape[0], mask.shape[1], 1)\n",
    "    mask_to_encode = mask_to_encode.astype(np.uint8)\n",
    "    mask_to_encode = np.asfortranarray(mask_to_encode)\n",
    "\n",
    "    # RLE encode mask --\n",
    "    encoded_mask = coco_mask.encode(mask_to_encode)[0][\"counts\"]\n",
    "\n",
    "    # compress and base64 encoding --\n",
    "    binary_str = zlib.compress(encoded_mask, zlib.Z_BEST_COMPRESSION)\n",
    "    base64_str = base64.b64encode(binary_str)\n",
    "    return base64_str\n"
   ]
  },
  {
   "cell_type": "code",
   "execution_count": 15,
   "metadata": {},
   "outputs": [],
   "source": [
    "from tqdm import tqdm"
   ]
  },
  {
   "cell_type": "code",
   "execution_count": 16,
   "metadata": {},
   "outputs": [],
   "source": [
    "empty_submission_df = pd.read_csv(\"sample_empty_submission.csv\")"
   ]
  },
  {
   "cell_type": "code",
   "execution_count": 17,
   "metadata": {},
   "outputs": [],
   "source": [
    "class_lookup_df = pd.read_csv(\"challenge-2019-classes-description-segmentable.csv\", header=None)"
   ]
  },
  {
   "cell_type": "code",
   "execution_count": 16,
   "metadata": {},
   "outputs": [
    {
     "data": {
      "text/html": [
       "<div>\n",
       "<style scoped>\n",
       "    .dataframe tbody tr th:only-of-type {\n",
       "        vertical-align: middle;\n",
       "    }\n",
       "\n",
       "    .dataframe tbody tr th {\n",
       "        vertical-align: top;\n",
       "    }\n",
       "\n",
       "    .dataframe thead th {\n",
       "        text-align: right;\n",
       "    }\n",
       "</style>\n",
       "<table border=\"1\" class=\"dataframe\">\n",
       "  <thead>\n",
       "    <tr style=\"text-align: right;\">\n",
       "      <th></th>\n",
       "      <th>encoded_label</th>\n",
       "      <th>label</th>\n",
       "    </tr>\n",
       "  </thead>\n",
       "  <tbody>\n",
       "    <tr>\n",
       "      <th>0</th>\n",
       "      <td>/m/01bms0</td>\n",
       "      <td>Screwdriver</td>\n",
       "    </tr>\n",
       "    <tr>\n",
       "      <th>1</th>\n",
       "      <td>/m/03jbxj</td>\n",
       "      <td>Light switch</td>\n",
       "    </tr>\n",
       "    <tr>\n",
       "      <th>2</th>\n",
       "      <td>/m/0jy4k</td>\n",
       "      <td>Doughnut</td>\n",
       "    </tr>\n",
       "    <tr>\n",
       "      <th>3</th>\n",
       "      <td>/m/09gtd</td>\n",
       "      <td>Toilet paper</td>\n",
       "    </tr>\n",
       "    <tr>\n",
       "      <th>4</th>\n",
       "      <td>/m/01j5ks</td>\n",
       "      <td>Wrench</td>\n",
       "    </tr>\n",
       "  </tbody>\n",
       "</table>\n",
       "</div>"
      ],
      "text/plain": [
       "  encoded_label         label\n",
       "0     /m/01bms0   Screwdriver\n",
       "1     /m/03jbxj  Light switch\n",
       "2      /m/0jy4k      Doughnut\n",
       "3      /m/09gtd  Toilet paper\n",
       "4     /m/01j5ks        Wrench"
      ]
     },
     "execution_count": 16,
     "metadata": {},
     "output_type": "execute_result"
    }
   ],
   "source": [
    "# we have to convert coco classes to this competition's one.\n",
    "\n",
    "class_lookup_df.columns = [\"encoded_label\",\"label\"]\n",
    "# class_lookup_df['label'] = class_lookup_df['label']\n",
    "class_lookup_df.head()"
   ]
  },
  {
   "cell_type": "code",
   "execution_count": 19,
   "metadata": {},
   "outputs": [
    {
     "data": {
      "text/html": [
       "<div>\n",
       "<style scoped>\n",
       "    .dataframe tbody tr th:only-of-type {\n",
       "        vertical-align: middle;\n",
       "    }\n",
       "\n",
       "    .dataframe tbody tr th {\n",
       "        vertical-align: top;\n",
       "    }\n",
       "\n",
       "    .dataframe thead th {\n",
       "        text-align: right;\n",
       "    }\n",
       "</style>\n",
       "<table border=\"1\" class=\"dataframe\">\n",
       "  <thead>\n",
       "    <tr style=\"text-align: right;\">\n",
       "      <th></th>\n",
       "      <th>encoded_label</th>\n",
       "      <th>label</th>\n",
       "    </tr>\n",
       "  </thead>\n",
       "  <tbody>\n",
       "    <tr>\n",
       "      <th>0</th>\n",
       "      <td>/m/01bms0</td>\n",
       "      <td>Screwdriver</td>\n",
       "    </tr>\n",
       "  </tbody>\n",
       "</table>\n",
       "</div>"
      ],
      "text/plain": [
       "  encoded_label        label\n",
       "0     /m/01bms0  Screwdriver"
      ]
     },
     "execution_count": 19,
     "metadata": {},
     "output_type": "execute_result"
    }
   ],
   "source": [
    "class_lookup_df[class_lookup_df[\"label\"] == \"Screwdriver\"]"
   ]
  },
  {
   "cell_type": "code",
   "execution_count": null,
   "metadata": {},
   "outputs": [
    {
     "name": "stderr",
     "output_type": "stream",
     "text": [
      " 67%|██████▋   | 66966/99999 [7:22:06<3:52:04,  2.37it/s]"
     ]
    }
   ],
   "source": [
    "ImageID_list = []\n",
    "ImageWidth_list = []\n",
    "ImageHeight_list = []\n",
    "PredictionString_list = []\n",
    "\n",
    "for num, row in tqdm(empty_submission_df.iterrows(), total=len(empty_submission_df)):\n",
    "    filename = row[\"ImageID\"] + \".jpg\"\n",
    "   \n",
    "    image = skimage.io.imread(os.path.join(\"datasets/test\", filename))\n",
    "    results = model.detect([image])\n",
    "    r = results[0]\n",
    "    \n",
    "    height = image.shape[0]\n",
    "    width  = image.shape[1]\n",
    "        \n",
    "    PredictionString = \"\"\n",
    "    \n",
    "    for i in range(len(r[\"class_ids\"])):        \n",
    "        class_id = r[\"class_ids\"][i]\n",
    "        roi = r[\"rois\"][i]\n",
    "        mask = r[\"masks\"][:,:,i]\n",
    "        confidence = r[\"scores\"][i]\n",
    "        \n",
    "        encoded_mask = encode_binary_mask(mask)\n",
    "        \n",
    "        labelname = classes[r['class_ids'][i]]\n",
    "        if class_lookup_df[class_lookup_df[\"label\"] == labelname].shape[0] == 0:\n",
    "            # no match label\n",
    "            continue\n",
    "        \n",
    "        encoded_label = class_lookup_df[class_lookup_df[\"label\"] == labelname][\"encoded_label\"].item()\n",
    "\n",
    "        PredictionString += encoded_label \n",
    "        PredictionString += \" \"\n",
    "        PredictionString += str(confidence)\n",
    "        PredictionString += \" \"\n",
    "        PredictionString += encoded_mask.decode()\n",
    "        PredictionString += \" \"\n",
    "        \n",
    "    ImageID_list.append(row[\"ImageID\"])\n",
    "    ImageWidth_list.append(width)\n",
    "    ImageHeight_list.append(height)\n",
    "    PredictionString_list.append(PredictionString)"
   ]
  },
  {
   "cell_type": "code",
   "execution_count": null,
   "metadata": {},
   "outputs": [],
   "source": [
    "results=pd.DataFrame({\"ImageID\":ImageID_list,\n",
    "                      \"ImageWidth\":ImageWidth_list,\n",
    "                      \"ImageHeight\":ImageHeight_list,\n",
    "                      \"PredictionString\":PredictionString_list\n",
    "                     })"
   ]
  },
  {
   "cell_type": "code",
   "execution_count": null,
   "metadata": {},
   "outputs": [],
   "source": [
    "results.to_csv(\"submissionL1.csv\", index=False)"
   ]
  },
  {
   "cell_type": "code",
   "execution_count": null,
   "metadata": {},
   "outputs": [],
   "source": [
    "import pandas as pd\n",
    "df = pd.read_csv(\"submissionL1.csv\")\n",
    "df.head()"
   ]
  },
  {
   "cell_type": "code",
   "execution_count": null,
   "metadata": {},
   "outputs": [],
   "source": []
  }
 ],
 "metadata": {
  "kernelspec": {
   "display_name": "Python 3",
   "language": "python",
   "name": "python3"
  },
  "language_info": {
   "codemirror_mode": {
    "name": "ipython",
    "version": 3
   },
   "file_extension": ".py",
   "mimetype": "text/x-python",
   "name": "python",
   "nbconvert_exporter": "python",
   "pygments_lexer": "ipython3",
   "version": "3.7.3"
  }
 },
 "nbformat": 4,
 "nbformat_minor": 2
}
