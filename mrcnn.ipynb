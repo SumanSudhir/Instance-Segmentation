{
 "cells": [
  {
   "cell_type": "code",
   "execution_count": 1,
   "metadata": {},
   "outputs": [
    {
     "name": "stdout",
     "output_type": "stream",
     "text": [
      "Populating the interactive namespace from numpy and matplotlib\n"
     ]
    }
   ],
   "source": [
    "%pylab inline\n",
    "import glob\n",
    "import os\n",
    "import matplotlib.pyplot as plt\n",
    "import matplotlib.image as mpimg\n",
    "import skimage.draw"
   ]
  },
  {
   "cell_type": "code",
   "execution_count": 13,
   "metadata": {},
   "outputs": [],
   "source": [
    "image_ids = next(os.walk(\"data/validation\"))[1]"
   ]
  },
  {
   "cell_type": "code",
   "execution_count": 32,
   "metadata": {},
   "outputs": [
    {
     "name": "stdout",
     "output_type": "stream",
     "text": [
      "dataset/3d8912ccb5b9f3b2.jpg\n",
      "dataset/435eca0e91edcc9f-checkpoint.jpg\n"
     ]
    }
   ],
   "source": [
    "for path, directories, files in os.walk('data/validation'):\n",
    "    print(os.path.join(\"dataset\",files[0]))"
   ]
  },
  {
   "cell_type": "code",
   "execution_count": 33,
   "metadata": {},
   "outputs": [],
   "source": [
    "arr = os.listdir(\"data/validation\")"
   ]
  },
  {
   "cell_type": "code",
   "execution_count": null,
   "metadata": {},
   "outputs": [],
   "source": [
    "for img in arr:\n",
    "    print(img)"
   ]
  },
  {
   "cell_type": "code",
   "execution_count": null,
   "metadata": {},
   "outputs": [],
   "source": []
  },
  {
   "cell_type": "code",
   "execution_count": 19,
   "metadata": {},
   "outputs": [
    {
     "data": {
      "text/plain": [
       "<generator object walk at 0x7f3749e23138>"
      ]
     },
     "execution_count": 19,
     "metadata": {},
     "output_type": "execute_result"
    }
   ],
   "source": [
    "os.walk('data/validation')"
   ]
  },
  {
   "cell_type": "code",
   "execution_count": 30,
   "metadata": {},
   "outputs": [],
   "source": [
    "image_ids = next(os.walk(\"data/validation\"))[1]"
   ]
  },
  {
   "cell_type": "code",
   "execution_count": 11,
   "metadata": {},
   "outputs": [],
   "source": [
    "image_ids = list(set(image_ids))"
   ]
  },
  {
   "cell_type": "code",
   "execution_count": 14,
   "metadata": {},
   "outputs": [
    {
     "name": "stdout",
     "output_type": "stream",
     "text": [
      ".ipynb_checkpoints\n"
     ]
    }
   ],
   "source": [
    "for image in image_ids:\n",
    "    print(image)"
   ]
  },
  {
   "cell_type": "code",
   "execution_count": null,
   "metadata": {},
   "outputs": [],
   "source": []
  },
  {
   "cell_type": "code",
   "execution_count": 12,
   "metadata": {},
   "outputs": [],
   "source": [
    "file = 'data/validation_mask/7e384a226bd8055c_m06mf6_c9d877fd.png'"
   ]
  },
  {
   "cell_type": "code",
   "execution_count": 9,
   "metadata": {},
   "outputs": [
    {
     "data": {
      "text/plain": [
       "'/home/jupyter/Segmentation/Mask_RCNN'"
      ]
     },
     "execution_count": 9,
     "metadata": {},
     "output_type": "execute_result"
    }
   ],
   "source": [
    "os.getcwd()"
   ]
  },
  {
   "cell_type": "code",
   "execution_count": 10,
   "metadata": {},
   "outputs": [],
   "source": [
    "# os. chdir('/home/jupyter/Segmentation/Mask_RCNN')"
   ]
  },
  {
   "cell_type": "code",
   "execution_count": 13,
   "metadata": {},
   "outputs": [
    {
     "data": {
      "image/png": "[encoded data removed]",
      "text/plain": [
       "<Figure size 432x288 with 1 Axes>"
      ]
     },
     "metadata": {
      "needs_background": "light"
     },
     "output_type": "display_data"
    }
   ],
   "source": [
    "img=mpimg.imread(file)\n",
    "imgplot = plt.imshow(img)\n",
    "plt.show()"
   ]
  },
  {
   "cell_type": "code",
   "execution_count": 78,
   "metadata": {},
   "outputs": [],
   "source": [
    "m = skimage.io.imread(file).astype(np.bool)"
   ]
  },
  {
   "cell_type": "code",
   "execution_count": 19,
   "metadata": {},
   "outputs": [
    {
     "data": {
      "text/plain": [
       "(1200, 1600)"
      ]
     },
     "execution_count": 19,
     "metadata": {},
     "output_type": "execute_result"
    }
   ],
   "source": [
    "m.shape"
   ]
  },
  {
   "cell_type": "code",
   "execution_count": 71,
   "metadata": {},
   "outputs": [],
   "source": [
    "def rle_encode(mask):\n",
    "    '''Encodes a mask in Run Length Encoding (RLE).\n",
    "    Return as string of space-seperated values.\n",
    "    '''\n",
    "\n",
    "    assert mask.ndim == 2, \"Mask must be of shape [Height, Width]\"\n",
    "    # Flatten it column wise\n",
    "    m = mask.T.flatten()\n",
    "    # Compute gradient. Equals 1 or -1 at transition points\n",
    "    g = np.diff(np.concatenate([[0], m, [0]]), n=1)\n",
    "    # 1-based indices of transition point(where gradient !=0)\n",
    "    rle = np.where(g != 0)[0].reshape([-1, 2]) + 1\n",
    "    # Convert second index in each pair to length\n",
    "    rle[:, 1] = rle[:, 1] - rle[:, 0]\n",
    "    return \" \".join(map(str, rle.flatten()))"
   ]
  },
  {
   "cell_type": "code",
   "execution_count": 73,
   "metadata": {},
   "outputs": [],
   "source": [
    "rle = rle_encode(m)"
   ]
  },
  {
   "cell_type": "code",
   "execution_count": 82,
   "metadata": {},
   "outputs": [],
   "source": [
    "def rle_decode(rle, shape):\n",
    "    '''Decodes an RLE encoded list of space seperated numbers and\n",
    "    Return binary mask\n",
    "    '''\n",
    "    rle = list(map(int, rle.split()))\n",
    "    rle = np.array(rle, dtype=np.int32).reshape([-1, 2])\n",
    "    rle[:, 1] += rle[:, 0]\n",
    "    rle -= 1\n",
    "    mask = np.zeros([shape[0] * shape[1]], np.bool)\n",
    "    for s, e in rle:\n",
    "        print(s,e)\n",
    "        assert 0 <= s < mask.shape[0]\n",
    "        assert 1 <= e <= mask.shape[0], \"shape: {}  s {}  e {}\".format(\n",
    "            shape, s, e)\n",
    "        mask[s:e] = 1\n",
    "    #Reshape and transpose\n",
    "    mask = mask.reshape([shape[1], shape[0]]).T\n",
    "    return mask"
   ]
  },
  {
   "cell_type": "code",
   "execution_count": null,
   "metadata": {},
   "outputs": [],
   "source": [
    "x = rle_decode(rle,(1200,1600))"
   ]
  },
  {
   "cell_type": "code",
   "execution_count": 81,
   "metadata": {},
   "outputs": [
    {
     "name": "stdout",
     "output_type": "stream",
     "text": [
      "True\n"
     ]
    }
   ],
   "source": []
  },
  {
   "cell_type": "code",
   "execution_count": null,
   "metadata": {},
   "outputs": [],
   "source": []
  },
  {
   "cell_type": "code",
   "execution_count": 48,
   "metadata": {},
   "outputs": [
    {
     "data": {
      "text/plain": [
       "array([ 1,  0, -1,  1, -1,  1, -1,  0,  1, -1])"
      ]
     },
     "execution_count": 48,
     "metadata": {},
     "output_type": "execute_result"
    }
   ],
   "source": [
    "g = np.diff([0,1,1,0,1,0,1,0,0,1,0],n=1)\n",
    "g"
   ]
  },
  {
   "cell_type": "code",
   "execution_count": 53,
   "metadata": {},
   "outputs": [
    {
     "data": {
      "text/plain": [
       "array([0, 2, 3, 4, 5, 6, 8, 9])"
      ]
     },
     "execution_count": 53,
     "metadata": {},
     "output_type": "execute_result"
    }
   ],
   "source": [
    "np.where(g !=0)[0]"
   ]
  },
  {
   "cell_type": "code",
   "execution_count": 69,
   "metadata": {},
   "outputs": [],
   "source": [
    "g = np.where(g !=0)[0].reshape([-1,2])  + 1"
   ]
  },
  {
   "cell_type": "code",
   "execution_count": 70,
   "metadata": {},
   "outputs": [
    {
     "data": {
      "text/plain": [
       "array([[1, 0],\n",
       "       [2, 0],\n",
       "       [3, 0],\n",
       "       [4, 0]])"
      ]
     },
     "execution_count": 70,
     "metadata": {},
     "output_type": "execute_result"
    }
   ],
   "source": [
    "g[:, 1] = g[:, 1] - g[:, 0]\n",
    "g"
   ]
  },
  {
   "cell_type": "code",
   "execution_count": null,
   "metadata": {},
   "outputs": [],
   "source": [
    "\" \".join(map(str, rle.flatten()))"
   ]
  },
  {
   "cell_type": "code",
   "execution_count": 75,
   "metadata": {},
   "outputs": [
    {
     "data": {
      "text/plain": [
       "True"
      ]
     },
     "execution_count": 75,
     "metadata": {},
     "output_type": "execute_result"
    }
   ],
   "source": [
    "os.path.exists('data/train/97fde35e1698e4c9.jpg')"
   ]
  },
  {
   "cell_type": "code",
   "execution_count": 74,
   "metadata": {},
   "outputs": [
    {
     "data": {
      "text/plain": [
       "True"
      ]
     },
     "execution_count": 74,
     "metadata": {},
     "output_type": "execute_result"
    }
   ],
   "source": [
    "os.path.exists('data/train/8dc919a41fd11f0f.jpg')"
   ]
  },
  {
   "cell_type": "code",
   "execution_count": null,
   "metadata": {},
   "outputs": [],
   "source": []
  },
  {
   "cell_type": "code",
   "execution_count": 14,
   "metadata": {},
   "outputs": [],
   "source": [
    "import pandas as pd"
   ]
  },
  {
   "cell_type": "code",
   "execution_count": 66,
   "metadata": {},
   "outputs": [],
   "source": [
    "df = pd.read_csv(\"challenge-2019-train-segmentation-masks.csv\")"
   ]
  },
  {
   "cell_type": "code",
   "execution_count": 50,
   "metadata": {},
   "outputs": [],
   "source": [
    "for i, temp_img_id in enumerate(df[\"ImageID\"]):\n",
    "    p = 0\n",
    "       "
   ]
  },
  {
   "cell_type": "code",
   "execution_count": 51,
   "metadata": {},
   "outputs": [],
   "source": [
    "x = []\n",
    "import os"
   ]
  },
  {
   "cell_type": "code",
   "execution_count": 52,
   "metadata": {},
   "outputs": [
    {
     "ename": "KeyboardInterrupt",
     "evalue": "",
     "output_type": "error",
     "traceback": [
      "\u001b[0;31m---------------------------------------------------------------------------\u001b[0m",
      "\u001b[0;31mKeyboardInterrupt\u001b[0m                         Traceback (most recent call last)",
      "\u001b[0;32m<ipython-input-52-a766f1fbc12d>\u001b[0m in \u001b[0;36m<module>\u001b[0;34m\u001b[0m\n\u001b[1;32m      1\u001b[0m \u001b[0;32mfor\u001b[0m \u001b[0mi\u001b[0m\u001b[0;34m,\u001b[0m\u001b[0mfilepath\u001b[0m \u001b[0;32min\u001b[0m \u001b[0menumerate\u001b[0m\u001b[0;34m(\u001b[0m\u001b[0msorted\u001b[0m\u001b[0;34m(\u001b[0m\u001b[0mglob\u001b[0m\u001b[0;34m.\u001b[0m\u001b[0mglob\u001b[0m\u001b[0;34m(\u001b[0m\u001b[0;34m'{}/*'\u001b[0m\u001b[0;34m.\u001b[0m\u001b[0mformat\u001b[0m\u001b[0;34m(\u001b[0m\u001b[0mdataset_dir\u001b[0m\u001b[0;34m)\u001b[0m\u001b[0;34m)\u001b[0m\u001b[0;34m)\u001b[0m\u001b[0;34m)\u001b[0m\u001b[0;34m:\u001b[0m\u001b[0;34m\u001b[0m\u001b[0;34m\u001b[0m\u001b[0m\n\u001b[1;32m      2\u001b[0m     \u001b[0midx\u001b[0m \u001b[0;34m=\u001b[0m \u001b[0mos\u001b[0m\u001b[0;34m.\u001b[0m\u001b[0mpath\u001b[0m\u001b[0;34m.\u001b[0m\u001b[0mbasename\u001b[0m\u001b[0;34m(\u001b[0m\u001b[0mfilepath\u001b[0m\u001b[0;34m)\u001b[0m\u001b[0;34m.\u001b[0m\u001b[0msplit\u001b[0m\u001b[0;34m(\u001b[0m\u001b[0;34m\".\"\u001b[0m\u001b[0;34m)\u001b[0m\u001b[0;34m[\u001b[0m\u001b[0;36m0\u001b[0m\u001b[0;34m]\u001b[0m\u001b[0;34m\u001b[0m\u001b[0;34m\u001b[0m\u001b[0m\n\u001b[0;32m----> 3\u001b[0;31m     \u001b[0;32mfor\u001b[0m \u001b[0mj\u001b[0m\u001b[0;34m,\u001b[0m\u001b[0mids\u001b[0m \u001b[0;32min\u001b[0m \u001b[0menumerate\u001b[0m\u001b[0;34m(\u001b[0m\u001b[0mdf\u001b[0m\u001b[0;34m[\u001b[0m\u001b[0;34m\"ImageID\"\u001b[0m\u001b[0;34m]\u001b[0m\u001b[0;34m)\u001b[0m\u001b[0;34m:\u001b[0m\u001b[0;34m\u001b[0m\u001b[0;34m\u001b[0m\u001b[0m\n\u001b[0m\u001b[1;32m      4\u001b[0m         \u001b[0;32mif\u001b[0m \u001b[0midx\u001b[0m \u001b[0;34m==\u001b[0m \u001b[0mids\u001b[0m\u001b[0;34m:\u001b[0m\u001b[0;34m\u001b[0m\u001b[0;34m\u001b[0m\u001b[0m\n\u001b[1;32m      5\u001b[0m             \u001b[0;31m#print(\"Hey\")\u001b[0m\u001b[0;34m\u001b[0m\u001b[0;34m\u001b[0m\u001b[0;34m\u001b[0m\u001b[0m\n",
      "\u001b[0;31mKeyboardInterrupt\u001b[0m: "
     ]
    }
   ],
   "source": [
    "for i,filepath in enumerate(sorted(glob.glob('{}/*'.format(dataset_dir)))):\n",
    "    idx = os.path.basename(filepath).split(\".\")[0]\n",
    "    for j,ids in enumerate(df[\"ImageID\"]):\n",
    "        if idx == ids:\n",
    "            #print(\"Hey\")\n",
    "            x.append(ids)"
   ]
  },
  {
   "cell_type": "code",
   "execution_count": 55,
   "metadata": {},
   "outputs": [
    {
     "data": {
      "text/plain": [
       "True"
      ]
     },
     "execution_count": 55,
     "metadata": {},
     "output_type": "execute_result"
    }
   ],
   "source": [
    "import os.path\n",
    "os.path.exists(\"data/train/0c3ed0db08680ed5.jpg\")"
   ]
  },
  {
   "cell_type": "code",
   "execution_count": 67,
   "metadata": {},
   "outputs": [],
   "source": [
    "img_ids = []"
   ]
  },
  {
   "cell_type": "code",
   "execution_count": 68,
   "metadata": {},
   "outputs": [],
   "source": [
    "for i, temp_img_id in enumerate(df[\"ImageID\"]):\n",
    "    img_path = temp_img_id + \".jpg\"\n",
    "    image_path = os.path.join(\"data/train\", img_path)\n",
    "    if os.path.exists(image_path):\n",
    "        img_ids.append(temp_img_id)"
   ]
  },
  {
   "cell_type": "code",
   "execution_count": 69,
   "metadata": {},
   "outputs": [
    {
     "data": {
      "text/plain": [
       "2125530"
      ]
     },
     "execution_count": 69,
     "metadata": {},
     "output_type": "execute_result"
    }
   ],
   "source": [
    "len(img_ids)"
   ]
  },
  {
   "cell_type": "code",
   "execution_count": 62,
   "metadata": {},
   "outputs": [],
   "source": [
    "img_ids = \"b05f306fb030ef8a\""
   ]
  },
  {
   "cell_type": "code",
   "execution_count": 10,
   "metadata": {},
   "outputs": [],
   "source": [
    "import pandas as pd\n",
    "df1 = pd.read_csv(\"challenge-2019-validation-segmentation-masks.csv\")"
   ]
  },
  {
   "cell_type": "code",
   "execution_count": 11,
   "metadata": {},
   "outputs": [],
   "source": [
    "df1.set_index(\"ImageID\", inplace=True)"
   ]
  },
  {
   "cell_type": "code",
   "execution_count": 12,
   "metadata": {},
   "outputs": [
    {
     "data": {
      "text/html": [
       "<div>\n",
       "<style scoped>\n",
       "    .dataframe tbody tr th:only-of-type {\n",
       "        vertical-align: middle;\n",
       "    }\n",
       "\n",
       "    .dataframe tbody tr th {\n",
       "        vertical-align: top;\n",
       "    }\n",
       "\n",
       "    .dataframe thead th {\n",
       "        text-align: right;\n",
       "    }\n",
       "</style>\n",
       "<table border=\"1\" class=\"dataframe\">\n",
       "  <thead>\n",
       "    <tr style=\"text-align: right;\">\n",
       "      <th></th>\n",
       "      <th>MaskPath</th>\n",
       "      <th>LabelName</th>\n",
       "      <th>BoxID</th>\n",
       "      <th>BoxXMin</th>\n",
       "      <th>BoxXMax</th>\n",
       "      <th>BoxYMin</th>\n",
       "      <th>BoxYMax</th>\n",
       "      <th>PredictedIoU</th>\n",
       "      <th>Clicks</th>\n",
       "    </tr>\n",
       "    <tr>\n",
       "      <th>ImageID</th>\n",
       "      <th></th>\n",
       "      <th></th>\n",
       "      <th></th>\n",
       "      <th></th>\n",
       "      <th></th>\n",
       "      <th></th>\n",
       "      <th></th>\n",
       "      <th></th>\n",
       "      <th></th>\n",
       "    </tr>\n",
       "  </thead>\n",
       "  <tbody>\n",
       "    <tr>\n",
       "      <th>ce9ec3d3eb1b9d20</th>\n",
       "      <td>ce9ec3d3eb1b9d20_m0h23m_543140c3.png</td>\n",
       "      <td>/m/0h23m</td>\n",
       "      <td>543140c3</td>\n",
       "      <td>0.252019</td>\n",
       "      <td>0.781906</td>\n",
       "      <td>0.266667</td>\n",
       "      <td>0.941414</td>\n",
       "      <td>0.0</td>\n",
       "      <td>NaN</td>\n",
       "    </tr>\n",
       "    <tr>\n",
       "      <th>7e384a226bd8055c</th>\n",
       "      <td>7e384a226bd8055c_m06mf6_c9d877fd.png</td>\n",
       "      <td>/m/06mf6</td>\n",
       "      <td>c9d877fd</td>\n",
       "      <td>0.196875</td>\n",
       "      <td>0.807813</td>\n",
       "      <td>0.020833</td>\n",
       "      <td>0.937500</td>\n",
       "      <td>0.0</td>\n",
       "      <td>NaN</td>\n",
       "    </tr>\n",
       "    <tr>\n",
       "      <th>0d87b8c4ea2f4c79</th>\n",
       "      <td>0d87b8c4ea2f4c79_m0342h_1a497a11.png</td>\n",
       "      <td>/m/0342h</td>\n",
       "      <td>1a497a11</td>\n",
       "      <td>0.007375</td>\n",
       "      <td>0.880531</td>\n",
       "      <td>0.265487</td>\n",
       "      <td>0.774336</td>\n",
       "      <td>0.0</td>\n",
       "      <td>NaN</td>\n",
       "    </tr>\n",
       "    <tr>\n",
       "      <th>c7e5f40a0f905e5b</th>\n",
       "      <td>c7e5f40a0f905e5b_m02rgn06_8dd9da42.png</td>\n",
       "      <td>/m/02rgn06</td>\n",
       "      <td>8dd9da42</td>\n",
       "      <td>0.163717</td>\n",
       "      <td>0.274336</td>\n",
       "      <td>0.079646</td>\n",
       "      <td>0.154867</td>\n",
       "      <td>0.0</td>\n",
       "      <td>NaN</td>\n",
       "    </tr>\n",
       "    <tr>\n",
       "      <th>0ea657df47f0dcbb</th>\n",
       "      <td>0ea657df47f0dcbb_m015p6_25470ee8.png</td>\n",
       "      <td>/m/015p6</td>\n",
       "      <td>25470ee8</td>\n",
       "      <td>0.245312</td>\n",
       "      <td>0.657812</td>\n",
       "      <td>0.077083</td>\n",
       "      <td>0.918750</td>\n",
       "      <td>0.0</td>\n",
       "      <td>NaN</td>\n",
       "    </tr>\n",
       "  </tbody>\n",
       "</table>\n",
       "</div>"
      ],
      "text/plain": [
       "                                                MaskPath   LabelName  \\\n",
       "ImageID                                                                \n",
       "ce9ec3d3eb1b9d20    ce9ec3d3eb1b9d20_m0h23m_543140c3.png    /m/0h23m   \n",
       "7e384a226bd8055c    7e384a226bd8055c_m06mf6_c9d877fd.png    /m/06mf6   \n",
       "0d87b8c4ea2f4c79    0d87b8c4ea2f4c79_m0342h_1a497a11.png    /m/0342h   \n",
       "c7e5f40a0f905e5b  c7e5f40a0f905e5b_m02rgn06_8dd9da42.png  /m/02rgn06   \n",
       "0ea657df47f0dcbb    0ea657df47f0dcbb_m015p6_25470ee8.png    /m/015p6   \n",
       "\n",
       "                     BoxID   BoxXMin   BoxXMax   BoxYMin   BoxYMax  \\\n",
       "ImageID                                                              \n",
       "ce9ec3d3eb1b9d20  543140c3  0.252019  0.781906  0.266667  0.941414   \n",
       "7e384a226bd8055c  c9d877fd  0.196875  0.807813  0.020833  0.937500   \n",
       "0d87b8c4ea2f4c79  1a497a11  0.007375  0.880531  0.265487  0.774336   \n",
       "c7e5f40a0f905e5b  8dd9da42  0.163717  0.274336  0.079646  0.154867   \n",
       "0ea657df47f0dcbb  25470ee8  0.245312  0.657812  0.077083  0.918750   \n",
       "\n",
       "                  PredictedIoU  Clicks  \n",
       "ImageID                                 \n",
       "ce9ec3d3eb1b9d20           0.0     NaN  \n",
       "7e384a226bd8055c           0.0     NaN  \n",
       "0d87b8c4ea2f4c79           0.0     NaN  \n",
       "c7e5f40a0f905e5b           0.0     NaN  \n",
       "0ea657df47f0dcbb           0.0     NaN  "
      ]
     },
     "execution_count": 12,
     "metadata": {},
     "output_type": "execute_result"
    }
   ],
   "source": [
    "df1.head()"
   ]
  },
  {
   "cell_type": "code",
   "execution_count": 13,
   "metadata": {},
   "outputs": [],
   "source": [
    "x = df1.loc[\"37de185fc6bdc338\"]"
   ]
  },
  {
   "cell_type": "code",
   "execution_count": 24,
   "metadata": {},
   "outputs": [],
   "source": [
    "y = df1.loc[\"0191b92699ed127b\"]"
   ]
  },
  {
   "cell_type": "code",
   "execution_count": 28,
   "metadata": {},
   "outputs": [
    {
     "data": {
      "text/plain": [
       "9"
      ]
     },
     "execution_count": 28,
     "metadata": {},
     "output_type": "execute_result"
    }
   ],
   "source": [
    "y.size"
   ]
  },
  {
   "cell_type": "code",
   "execution_count": null,
   "metadata": {},
   "outputs": [],
   "source": []
  },
  {
   "cell_type": "code",
   "execution_count": 19,
   "metadata": {},
   "outputs": [
    {
     "data": {
      "text/plain": [
       "(9, 9)"
      ]
     },
     "execution_count": 19,
     "metadata": {},
     "output_type": "execute_result"
    }
   ],
   "source": [
    "x.shape"
   ]
  },
  {
   "cell_type": "code",
   "execution_count": 29,
   "metadata": {},
   "outputs": [
    {
     "data": {
      "text/plain": [
       "81"
      ]
     },
     "execution_count": 29,
     "metadata": {},
     "output_type": "execute_result"
    }
   ],
   "source": [
    "x.size"
   ]
  },
  {
   "cell_type": "code",
   "execution_count": 14,
   "metadata": {},
   "outputs": [
    {
     "data": {
      "text/plain": [
       "ImageID\n",
       "37de185fc6bdc338    37de185fc6bdc338_m0dbvp_4863dd71.png\n",
       "37de185fc6bdc338    37de185fc6bdc338_m09ddx_a397ccca.png\n",
       "37de185fc6bdc338    37de185fc6bdc338_m0dbvp_9441f2a0.png\n",
       "37de185fc6bdc338    37de185fc6bdc338_m09ddx_859e3afc.png\n",
       "37de185fc6bdc338    37de185fc6bdc338_m0dftk_cf98c5ef.png\n",
       "37de185fc6bdc338    37de185fc6bdc338_m09ddx_7d6ec27f.png\n",
       "37de185fc6bdc338    37de185fc6bdc338_m0dbvp_a72c215e.png\n",
       "37de185fc6bdc338    37de185fc6bdc338_m0dftk_25713407.png\n",
       "37de185fc6bdc338    37de185fc6bdc338_m0dftk_e893e4cd.png\n",
       "Name: MaskPath, dtype: object"
      ]
     },
     "execution_count": 14,
     "metadata": {},
     "output_type": "execute_result"
    }
   ],
   "source": [
    "x.MaskPath"
   ]
  },
  {
   "cell_type": "code",
   "execution_count": 15,
   "metadata": {},
   "outputs": [],
   "source": [
    "m = x.LabelName"
   ]
  },
  {
   "cell_type": "code",
   "execution_count": 18,
   "metadata": {},
   "outputs": [
    {
     "data": {
      "text/plain": [
       "(9,)"
      ]
     },
     "execution_count": 18,
     "metadata": {},
     "output_type": "execute_result"
    }
   ],
   "source": [
    "m.shape"
   ]
  },
  {
   "cell_type": "code",
   "execution_count": null,
   "metadata": {},
   "outputs": [],
   "source": []
  },
  {
   "cell_type": "code",
   "execution_count": 105,
   "metadata": {},
   "outputs": [
    {
     "name": "stdout",
     "output_type": "stream",
     "text": [
      "ImageID\n",
      "497a4e32b5aeb41d    /m/0jly1\n",
      "497a4e32b5aeb41d    /m/09b5t\n",
      "Name: LabelName, dtype: object\n",
      "ImageID\n",
      "497a4e32b5aeb41d    /m/0jly1\n",
      "497a4e32b5aeb41d    /m/09b5t\n",
      "Name: LabelName, dtype: object\n"
     ]
    }
   ],
   "source": [
    "for i,y in enumerate(x.MaskPath):\n",
    "    print(x.LabelName)"
   ]
  },
  {
   "cell_type": "code",
   "execution_count": 164,
   "metadata": {},
   "outputs": [],
   "source": [
    "x = 'data/validation/4eb2bf7dc6469b8a.jpg'"
   ]
  },
  {
   "cell_type": "code",
   "execution_count": 165,
   "metadata": {},
   "outputs": [],
   "source": [
    "subset = os.path.split(os.path.split(x)[0])"
   ]
  },
  {
   "cell_type": "code",
   "execution_count": 166,
   "metadata": {},
   "outputs": [
    {
     "data": {
      "text/plain": [
       "'validation'"
      ]
     },
     "execution_count": 166,
     "metadata": {},
     "output_type": "execute_result"
    }
   ],
   "source": [
    "subset[1]"
   ]
  },
  {
   "cell_type": "code",
   "execution_count": 167,
   "metadata": {},
   "outputs": [
    {
     "data": {
      "text/plain": [
       "'data'"
      ]
     },
     "execution_count": 167,
     "metadata": {},
     "output_type": "execute_result"
    }
   ],
   "source": [
    "subset[0]"
   ]
  },
  {
   "cell_type": "code",
   "execution_count": 168,
   "metadata": {},
   "outputs": [],
   "source": [
    "mask_dir = os.path.join(subset[0], (subset[1] + \"_mask\"))"
   ]
  },
  {
   "cell_type": "code",
   "execution_count": 169,
   "metadata": {},
   "outputs": [
    {
     "data": {
      "text/plain": [
       "'data/validation_mask'"
      ]
     },
     "execution_count": 169,
     "metadata": {},
     "output_type": "execute_result"
    }
   ],
   "source": [
    "mask_dir"
   ]
  },
  {
   "cell_type": "code",
   "execution_count": 170,
   "metadata": {},
   "outputs": [],
   "source": [
    "import skimage.draw"
   ]
  },
  {
   "cell_type": "code",
   "execution_count": 173,
   "metadata": {},
   "outputs": [],
   "source": [
    "for i,m_path in enumerate(x.MaskPath):\n",
    "    m = skimage.io.imread(os.path.join(mask_dir, m_path)).astype(np.bool)"
   ]
  },
  {
   "cell_type": "code",
   "execution_count": 174,
   "metadata": {},
   "outputs": [
    {
     "data": {
      "text/plain": [
       "array([[False, False, False, ..., False, False, False],\n",
       "       [False, False, False, ..., False, False, False],\n",
       "       [False, False, False, ..., False, False, False],\n",
       "       ...,\n",
       "       [False, False, False, ..., False, False, False],\n",
       "       [False, False, False, ..., False, False, False],\n",
       "       [False, False, False, ..., False, False, False]])"
      ]
     },
     "execution_count": 174,
     "metadata": {},
     "output_type": "execute_result"
    }
   ],
   "source": [
    "m"
   ]
  },
  {
   "cell_type": "code",
   "execution_count": 175,
   "metadata": {},
   "outputs": [
    {
     "data": {
      "text/plain": [
       "(1059, 1600)"
      ]
     },
     "execution_count": 175,
     "metadata": {},
     "output_type": "execute_result"
    }
   ],
   "source": [
    "m.shape"
   ]
  },
  {
   "cell_type": "code",
   "execution_count": 178,
   "metadata": {},
   "outputs": [
    {
     "data": {
      "image/png": "[encoded data removed]",
      "text/plain": [
       "<Figure size 432x288 with 1 Axes>"
      ]
     },
     "metadata": {
      "needs_background": "light"
     },
     "output_type": "display_data"
    }
   ],
   "source": [
    "img=mpimg.imread(file)\n",
    "imgplot = plt.imshow(m)\n",
    "plt.show()"
   ]
  },
  {
   "cell_type": "code",
   "execution_count": 180,
   "metadata": {},
   "outputs": [
    {
     "name": "stderr",
     "output_type": "stream",
     "text": [
      "Using TensorFlow backend.\n"
     ]
    }
   ],
   "source": [
    "import model as modellib\n",
    "import utils\n",
    "from config import Config"
   ]
  },
  {
   "cell_type": "code",
   "execution_count": 278,
   "metadata": {},
   "outputs": [],
   "source": [
    "class OpenImageDataset(utils.Dataset):\n",
    "\n",
    "    def load_openimage(self, dataset_dir, subset):\n",
    "\n",
    "        # Add classes\n",
    "        cls_df = pd.read_csv(\n",
    "            \"challenge-2019-classes-description-segmentable.csv\", header=None)\n",
    "        # print(cls_df[1][0])\n",
    "\n",
    "        for i in range(300):\n",
    "            self.add_class(\"openimage\", i + 1, cls_df[1][i])\n",
    "            # print(cls_df[1][i])\n",
    "\n",
    "        # Train or validation dataset?\n",
    "        assert subset in [\"train\", \"validation\"]\n",
    "        dataset_dir = os.path.join(dataset_dir, subset)\n",
    "\n",
    "        df = pd.read_csv(\"challenge-2019-\" + subset +\n",
    "                         \"-segmentation-masks.csv\")\n",
    "\n",
    "        # Getting Image Ids\n",
    "        img_ids = []\n",
    "#         for i,filepath in enumerate(sorted(glob.glob('{}/*'.format(dataset_dir)))):\n",
    "#             idx = os.path.basename(filepath).split(\".\")[0]\n",
    "#             img_ids.append(idx)\n",
    "\n",
    "        for i, temp_img_id in enumerate(df[\"ImageID\"]):\n",
    "            img_path = temp_img_id + \".jpg\"\n",
    "            image_path = os.path.join(dataset_dir, img_path)\n",
    "            if os.path.exists(image_path):\n",
    "                img_ids.append(temp_img_id)\n",
    "\n",
    "\n",
    "#         for i, filepath in enumerate(sorted(glob.glob('{}/*'.format(dataset_dir)))):\n",
    "#             idx = os.path.basename(filepath).split(\".\")[0]\n",
    "#             for j, ids in enumerate(df[\"ImageID\"]):\n",
    "#                 if idx == ids:\n",
    "#                     img_ids.append(ids)\n",
    "\n",
    "        # Adding of Image\n",
    "        for i, img_name in enumerate(img_ids):\n",
    "            file_path = img_name + \".jpg\"\n",
    "\n",
    "            image_path = os.path.join(dataset_dir, file_path)\n",
    "\n",
    "            self.add_image(\n",
    "                \"openimage\",\n",
    "                image_id=img_name,\n",
    "                path=image_path\n",
    "            )\n",
    "\n",
    "    def load_mask(self, image_id):\n",
    "\n",
    "        info = self.image_info[image_id]\n",
    "\n",
    "        subset = os.path.split(os.path.split(info['path'])[0])\n",
    "        mask_dir = os.path.join(subset[0], (subset[1] + \"_mask\"))\n",
    "\n",
    "        cls_df = pd.read_csv(\n",
    "            \"challenge-2019-classes-description-segmentable.csv\", header=None)\n",
    "\n",
    "        class_dict = {}\n",
    "        for i in range(300):\n",
    "            class_dict[cls_df[0][i]] = i + 1\n",
    "\n",
    "        real_id = info[\"id\"]\n",
    "        df1 = pd.read_csv(\"challenge-2019-\" +\n",
    "                          subset[1] + \"-segmentation-masks.csv\")\n",
    "        df1.set_index(\"ImageID\", inplace=True)\n",
    "\n",
    "        id_df = df1.loc[real_id]\n",
    "\n",
    "        mask = []\n",
    "        temp_class_id = []\n",
    "        \n",
    "        if len(id_df) == 9:\n",
    "            temp_class_id.append(id_df.LabelName)\n",
    "            m = skimage.io.imread(os.path.join(mask_dir,id_df.MaskPath)).astype(np.bool)\n",
    "            mask.append(m)\n",
    "            \n",
    "        else:\n",
    "            for j, label in enumerate(id_df.LabelName):\n",
    "                    temp_class_id.append(label)\n",
    "\n",
    "            for i, m_path in enumerate(id_df.MaskPath):\n",
    "                #m = skimage.io.imread(os.path.join(mask_dir,m_path))\n",
    "                print(m_path)\n",
    "                m = skimage.io.imread(os.path.join(\n",
    "                    mask_dir, m_path)).astype(np.bool)\n",
    "                mask.append(m)\n",
    "\n",
    "        mask = np.stack(mask, axis=-1)\n",
    "        class_id = np.empty([mask.shape[-1]], dtype=np.int32)\n",
    "\n",
    "        for i in range(len(temp_class_id)):\n",
    "            class_id[i] = class_dict[temp_class_id[i]]\n",
    "\n",
    "        # print(class_id,mask.shape)\n",
    "\n",
    "        return mask, class_id"
   ]
  },
  {
   "cell_type": "code",
   "execution_count": 279,
   "metadata": {},
   "outputs": [],
   "source": [
    "x = OpenImageDataset()"
   ]
  },
  {
   "cell_type": "code",
   "execution_count": 280,
   "metadata": {},
   "outputs": [],
   "source": [
    "y = x.load_openimage(\"data\",\"validation\")"
   ]
  },
  {
   "cell_type": "code",
   "execution_count": 281,
   "metadata": {},
   "outputs": [
    {
     "name": "stdout",
     "output_type": "stream",
     "text": [
      "1d7929b66a611ea8_m02jvh9_d93fba0d.png\n",
      "1d7929b66a611ea8_m01fh4r_5076ed9a.png\n",
      "1d7929b66a611ea8_m08hvt4_82f36e1d.png\n",
      "1d7929b66a611ea8_m054fyh_9a0b7beb.png\n",
      "1d7929b66a611ea8_m03s_tn_ae4b4df9.png\n",
      "1d7929b66a611ea8_m02p5f1q_6f069ed6.png\n"
     ]
    }
   ],
   "source": [
    "m,n = x.load_mask(2000)"
   ]
  },
  {
   "cell_type": "code",
   "execution_count": 282,
   "metadata": {},
   "outputs": [],
   "source": [
    "t = x.image_info"
   ]
  },
  {
   "cell_type": "code",
   "execution_count": 283,
   "metadata": {},
   "outputs": [
    {
     "data": {
      "text/plain": [
       "'7e384a226bd8055c'"
      ]
     },
     "execution_count": 283,
     "metadata": {},
     "output_type": "execute_result"
    }
   ],
   "source": [
    "t[0][\"id\"]"
   ]
  },
  {
   "cell_type": "code",
   "execution_count": 284,
   "metadata": {},
   "outputs": [
    {
     "name": "stdout",
     "output_type": "stream",
     "text": [
      "358\n",
      "4188\n",
      "4565\n",
      "4919\n",
      "6808\n",
      "8155\n",
      "8888\n",
      "12812\n",
      "13014\n"
     ]
    }
   ],
   "source": [
    "for i in range(len(t)):\n",
    "    if t[i][\"id\"] == \"9b4890f68823165d\":\n",
    "        print(i)    "
   ]
  },
  {
   "cell_type": "code",
   "execution_count": 285,
   "metadata": {},
   "outputs": [
    {
     "data": {
      "text/plain": [
       "{'id': '9b4890f68823165d',\n",
       " 'source': 'openimage',\n",
       " 'path': 'data/validation/9b4890f68823165d.jpg'}"
      ]
     },
     "execution_count": 285,
     "metadata": {},
     "output_type": "execute_result"
    }
   ],
   "source": [
    "t[358]"
   ]
  },
  {
   "cell_type": "code",
   "execution_count": 286,
   "metadata": {},
   "outputs": [
    {
     "data": {
      "text/plain": [
       "{'id': '9b4890f68823165d',\n",
       " 'source': 'openimage',\n",
       " 'path': 'data/validation/9b4890f68823165d.jpg'}"
      ]
     },
     "execution_count": 286,
     "metadata": {},
     "output_type": "execute_result"
    }
   ],
   "source": [
    "t[4188]"
   ]
  },
  {
   "cell_type": "code",
   "execution_count": null,
   "metadata": {},
   "outputs": [],
   "source": []
  },
  {
   "cell_type": "code",
   "execution_count": 276,
   "metadata": {},
   "outputs": [
    {
     "data": {
      "text/plain": [
       "array([259], dtype=int32)"
      ]
     },
     "execution_count": 276,
     "metadata": {},
     "output_type": "execute_result"
    }
   ],
   "source": [
    "m,n =  x.load_mask(6832)\n",
    "n"
   ]
  },
  {
   "cell_type": "code",
   "execution_count": 239,
   "metadata": {},
   "outputs": [],
   "source": [
    "df1 = pd.read_csv(\"challenge-2019-validation-segmentation-masks.csv\")\n",
    "df1.set_index(\"ImageID\", inplace=True)"
   ]
  },
  {
   "cell_type": "code",
   "execution_count": 240,
   "metadata": {},
   "outputs": [
    {
     "data": {
      "text/html": [
       "<div>\n",
       "<style scoped>\n",
       "    .dataframe tbody tr th:only-of-type {\n",
       "        vertical-align: middle;\n",
       "    }\n",
       "\n",
       "    .dataframe tbody tr th {\n",
       "        vertical-align: top;\n",
       "    }\n",
       "\n",
       "    .dataframe thead th {\n",
       "        text-align: right;\n",
       "    }\n",
       "</style>\n",
       "<table border=\"1\" class=\"dataframe\">\n",
       "  <thead>\n",
       "    <tr style=\"text-align: right;\">\n",
       "      <th></th>\n",
       "      <th>MaskPath</th>\n",
       "      <th>LabelName</th>\n",
       "      <th>BoxID</th>\n",
       "      <th>BoxXMin</th>\n",
       "      <th>BoxXMax</th>\n",
       "      <th>BoxYMin</th>\n",
       "      <th>BoxYMax</th>\n",
       "      <th>PredictedIoU</th>\n",
       "      <th>Clicks</th>\n",
       "    </tr>\n",
       "    <tr>\n",
       "      <th>ImageID</th>\n",
       "      <th></th>\n",
       "      <th></th>\n",
       "      <th></th>\n",
       "      <th></th>\n",
       "      <th></th>\n",
       "      <th></th>\n",
       "      <th></th>\n",
       "      <th></th>\n",
       "      <th></th>\n",
       "    </tr>\n",
       "  </thead>\n",
       "  <tbody>\n",
       "    <tr>\n",
       "      <th>ce9ec3d3eb1b9d20</th>\n",
       "      <td>ce9ec3d3eb1b9d20_m0h23m_543140c3.png</td>\n",
       "      <td>/m/0h23m</td>\n",
       "      <td>543140c3</td>\n",
       "      <td>0.252019</td>\n",
       "      <td>0.781906</td>\n",
       "      <td>0.266667</td>\n",
       "      <td>0.941414</td>\n",
       "      <td>0.0</td>\n",
       "      <td>NaN</td>\n",
       "    </tr>\n",
       "    <tr>\n",
       "      <th>7e384a226bd8055c</th>\n",
       "      <td>7e384a226bd8055c_m06mf6_c9d877fd.png</td>\n",
       "      <td>/m/06mf6</td>\n",
       "      <td>c9d877fd</td>\n",
       "      <td>0.196875</td>\n",
       "      <td>0.807813</td>\n",
       "      <td>0.020833</td>\n",
       "      <td>0.937500</td>\n",
       "      <td>0.0</td>\n",
       "      <td>NaN</td>\n",
       "    </tr>\n",
       "    <tr>\n",
       "      <th>0d87b8c4ea2f4c79</th>\n",
       "      <td>0d87b8c4ea2f4c79_m0342h_1a497a11.png</td>\n",
       "      <td>/m/0342h</td>\n",
       "      <td>1a497a11</td>\n",
       "      <td>0.007375</td>\n",
       "      <td>0.880531</td>\n",
       "      <td>0.265487</td>\n",
       "      <td>0.774336</td>\n",
       "      <td>0.0</td>\n",
       "      <td>NaN</td>\n",
       "    </tr>\n",
       "    <tr>\n",
       "      <th>c7e5f40a0f905e5b</th>\n",
       "      <td>c7e5f40a0f905e5b_m02rgn06_8dd9da42.png</td>\n",
       "      <td>/m/02rgn06</td>\n",
       "      <td>8dd9da42</td>\n",
       "      <td>0.163717</td>\n",
       "      <td>0.274336</td>\n",
       "      <td>0.079646</td>\n",
       "      <td>0.154867</td>\n",
       "      <td>0.0</td>\n",
       "      <td>NaN</td>\n",
       "    </tr>\n",
       "    <tr>\n",
       "      <th>0ea657df47f0dcbb</th>\n",
       "      <td>0ea657df47f0dcbb_m015p6_25470ee8.png</td>\n",
       "      <td>/m/015p6</td>\n",
       "      <td>25470ee8</td>\n",
       "      <td>0.245312</td>\n",
       "      <td>0.657812</td>\n",
       "      <td>0.077083</td>\n",
       "      <td>0.918750</td>\n",
       "      <td>0.0</td>\n",
       "      <td>NaN</td>\n",
       "    </tr>\n",
       "  </tbody>\n",
       "</table>\n",
       "</div>"
      ],
      "text/plain": [
       "                                                MaskPath   LabelName  \\\n",
       "ImageID                                                                \n",
       "ce9ec3d3eb1b9d20    ce9ec3d3eb1b9d20_m0h23m_543140c3.png    /m/0h23m   \n",
       "7e384a226bd8055c    7e384a226bd8055c_m06mf6_c9d877fd.png    /m/06mf6   \n",
       "0d87b8c4ea2f4c79    0d87b8c4ea2f4c79_m0342h_1a497a11.png    /m/0342h   \n",
       "c7e5f40a0f905e5b  c7e5f40a0f905e5b_m02rgn06_8dd9da42.png  /m/02rgn06   \n",
       "0ea657df47f0dcbb    0ea657df47f0dcbb_m015p6_25470ee8.png    /m/015p6   \n",
       "\n",
       "                     BoxID   BoxXMin   BoxXMax   BoxYMin   BoxYMax  \\\n",
       "ImageID                                                              \n",
       "ce9ec3d3eb1b9d20  543140c3  0.252019  0.781906  0.266667  0.941414   \n",
       "7e384a226bd8055c  c9d877fd  0.196875  0.807813  0.020833  0.937500   \n",
       "0d87b8c4ea2f4c79  1a497a11  0.007375  0.880531  0.265487  0.774336   \n",
       "c7e5f40a0f905e5b  8dd9da42  0.163717  0.274336  0.079646  0.154867   \n",
       "0ea657df47f0dcbb  25470ee8  0.245312  0.657812  0.077083  0.918750   \n",
       "\n",
       "                  PredictedIoU  Clicks  \n",
       "ImageID                                 \n",
       "ce9ec3d3eb1b9d20           0.0     NaN  \n",
       "7e384a226bd8055c           0.0     NaN  \n",
       "0d87b8c4ea2f4c79           0.0     NaN  \n",
       "c7e5f40a0f905e5b           0.0     NaN  \n",
       "0ea657df47f0dcbb           0.0     NaN  "
      ]
     },
     "execution_count": 240,
     "metadata": {},
     "output_type": "execute_result"
    }
   ],
   "source": [
    "df1.head()"
   ]
  },
  {
   "cell_type": "code",
   "execution_count": 242,
   "metadata": {},
   "outputs": [
    {
     "data": {
      "text/plain": [
       "'0191b92699ed127b_m0271t_50a2269a.png'"
      ]
     },
     "execution_count": 242,
     "metadata": {},
     "output_type": "execute_result"
    }
   ],
   "source": [
    "df1.loc[\"0191b92699ed127b\"].MaskPath"
   ]
  },
  {
   "cell_type": "code",
   "execution_count": 249,
   "metadata": {},
   "outputs": [
    {
     "data": {
      "text/plain": [
       "'0191b92699ed127b_m0271t_50a2269a.png'"
      ]
     },
     "execution_count": 249,
     "metadata": {},
     "output_type": "execute_result"
    }
   ],
   "source": [
    "df1.loc[\"0191b92699ed127b\"].MaskPath"
   ]
  },
  {
   "cell_type": "code",
   "execution_count": 257,
   "metadata": {},
   "outputs": [
    {
     "data": {
      "text/plain": [
       "(6, 9)"
      ]
     },
     "execution_count": 257,
     "metadata": {},
     "output_type": "execute_result"
    }
   ],
   "source": [
    "df1.loc[\"1d7929b66a611ea8\"].shape"
   ]
  },
  {
   "cell_type": "code",
   "execution_count": 266,
   "metadata": {},
   "outputs": [
    {
     "data": {
      "text/plain": [
       "True"
      ]
     },
     "execution_count": 266,
     "metadata": {},
     "output_type": "execute_result"
    }
   ],
   "source": [
    "len(df1.loc[\"0191b92699ed127b\"]) == 9"
   ]
  },
  {
   "cell_type": "code",
   "execution_count": 42,
   "metadata": {},
   "outputs": [],
   "source": [
    "x = \"3d8912ccb5b9f3b2.jpg\""
   ]
  },
  {
   "cell_type": "code",
   "execution_count": 43,
   "metadata": {},
   "outputs": [
    {
     "data": {
      "text/plain": [
       "'3d8912ccb5b9f3b2'"
      ]
     },
     "execution_count": 43,
     "metadata": {},
     "output_type": "execute_result"
    }
   ],
   "source": [
    "x.split(\".\")[0]"
   ]
  },
  {
   "cell_type": "code",
   "execution_count": 1,
   "metadata": {},
   "outputs": [],
   "source": [
    "k = 0"
   ]
  },
  {
   "cell_type": "code",
   "execution_count": 2,
   "metadata": {},
   "outputs": [],
   "source": [
    "for i,x in enumerate(\"data/train\"):\n",
    "    k += 1"
   ]
  },
  {
   "cell_type": "code",
   "execution_count": 6,
   "metadata": {},
   "outputs": [],
   "source": [
    "import os"
   ]
  },
  {
   "cell_type": "code",
   "execution_count": 7,
   "metadata": {},
   "outputs": [],
   "source": [
    "x = os.listdir(\"data/train\")"
   ]
  },
  {
   "cell_type": "code",
   "execution_count": 8,
   "metadata": {},
   "outputs": [
    {
     "data": {
      "text/plain": [
       "1743043"
      ]
     },
     "execution_count": 8,
     "metadata": {},
     "output_type": "execute_result"
    }
   ],
   "source": [
    "len(x)"
   ]
  },
  {
   "cell_type": "code",
   "execution_count": 12,
   "metadata": {},
   "outputs": [],
   "source": [
    "x = os.listdir(\"data/validation\")"
   ]
  },
  {
   "cell_type": "code",
   "execution_count": 13,
   "metadata": {},
   "outputs": [
    {
     "data": {
      "text/plain": [
       "29699"
      ]
     },
     "execution_count": 13,
     "metadata": {},
     "output_type": "execute_result"
    }
   ],
   "source": [
    "len(x)"
   ]
  },
  {
   "cell_type": "code",
   "execution_count": null,
   "metadata": {},
   "outputs": [],
   "source": []
  }
 ],
 "metadata": {
  "kernelspec": {
   "display_name": "Python 3",
   "language": "python",
   "name": "python3"
  },
  "language_info": {
   "codemirror_mode": {
    "name": "ipython",
    "version": 3
   },
   "file_extension": ".py",
   "mimetype": "text/x-python",
   "name": "python",
   "nbconvert_exporter": "python",
   "pygments_lexer": "ipython3",
   "version": "3.7.3"
  }
 },
 "nbformat": 4,
 "nbformat_minor": 2
}
