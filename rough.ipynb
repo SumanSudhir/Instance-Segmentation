{
 "cells": [
  {
   "cell_type": "code",
   "execution_count": 1,
   "metadata": {},
   "outputs": [],
   "source": [
    "import pandas as pd\n",
    "import numpy as np"
   ]
  },
  {
   "cell_type": "code",
   "execution_count": 2,
   "metadata": {},
   "outputs": [],
   "source": [
    "from pathlib import Path\n",
    "import json\n",
    "import json\n",
    "from collections import defaultdict"
   ]
  },
  {
   "cell_type": "code",
   "execution_count": 33,
   "metadata": {},
   "outputs": [],
   "source": [
    "def get_string_to_name():\n",
    "    csv_path = Path(\"__file__\").parent.joinpath(\"datasets\", \"challenge-2019-classes-description-segmentable.csv\")\n",
    "    df = pd.read_csv(str(csv_path), header=None, names=[\"class_string\", \"class_name\"])\n",
    "    class_string_to_name = dict(zip(df.class_string,df.class_name))\n",
    "    return class_string_to_name"
   ]
  },
  {
   "cell_type": "code",
   "execution_count": 34,
   "metadata": {},
   "outputs": [],
   "source": [
    "x = get_string_to_name()"
   ]
  },
  {
   "cell_type": "code",
   "execution_count": 35,
   "metadata": {},
   "outputs": [],
   "source": [
    "json_path = Path(\"__file__\").parent.joinpath(\"datasets/challenge-2019-label300-segmentable-hierarchy.json\")\n",
    "\n",
    "with json_path.open(\"r\") as f:\n",
    "    d = json.load(f)"
   ]
  },
  {
   "cell_type": "code",
   "execution_count": 38,
   "metadata": {},
   "outputs": [],
   "source": [
    "def get_hierarchy():\n",
    "    json_path = Path(\"__file__\").parent.joinpath(\"datasets\", \"challenge-2019-label300-segmentable-hierarchy.json\")\n",
    "\n",
    "    with json_path.open(\"r\") as f:\n",
    "        d = json.load(f)\n",
    "\n",
    "    level_to_class_strings = defaultdict(list)\n",
    "    class_string_to_parent = {}\n",
    "\n",
    "    def register(c,level):\n",
    "        class_string = c[\"LabelName\"]\n",
    "        print(level, get_string_to_name()[class_string])\n",
    "        level_to_class_strings[level].append(class_string)\n",
    "\n",
    "        if \"Subcategory\" in c.keys():\n",
    "            for sub_c in c[\"Subcategory\"]:\n",
    "                class_string_to_parent[sub_c[\"LabelName\"]] = class_string\n",
    "                register(sub_c, level+1)\n",
    "\n",
    "    for c in d[\"Subcategory\"]:\n",
    "        register(c,0)\n",
    "\n",
    "    class_string_to_parent[\"/m/0kmg4\"] = \"/m/0138t1\"   #teddy bear is toy not bear\n",
    "    layer0 = level_to_class_strings[0]\n",
    "    layer1 = list(set(level_to_class_strings[1] + level_to_class_strings[2]))\n",
    "    return sorted(layer0), sorted(layer1), class_string_to_parent"
   ]
  },
  {
   "cell_type": "code",
   "execution_count": null,
   "metadata": {},
   "outputs": [],
   "source": []
  },
  {
   "cell_type": "code",
   "execution_count": null,
   "metadata": {},
   "outputs": [],
   "source": []
  },
  {
   "cell_type": "code",
   "execution_count": 22,
   "metadata": {},
   "outputs": [],
   "source": [
    "class_lookup_df = pd.read_csv(\"challenge-2019-classes-description-segmentable.csv\", header=None)"
   ]
  },
  {
   "cell_type": "code",
   "execution_count": 23,
   "metadata": {},
   "outputs": [
    {
     "data": {
      "text/html": [
       "<div>\n",
       "<style scoped>\n",
       "    .dataframe tbody tr th:only-of-type {\n",
       "        vertical-align: middle;\n",
       "    }\n",
       "\n",
       "    .dataframe tbody tr th {\n",
       "        vertical-align: top;\n",
       "    }\n",
       "\n",
       "    .dataframe thead th {\n",
       "        text-align: right;\n",
       "    }\n",
       "</style>\n",
       "<table border=\"1\" class=\"dataframe\">\n",
       "  <thead>\n",
       "    <tr style=\"text-align: right;\">\n",
       "      <th></th>\n",
       "      <th>encoded_label</th>\n",
       "      <th>label</th>\n",
       "    </tr>\n",
       "  </thead>\n",
       "  <tbody>\n",
       "    <tr>\n",
       "      <th>0</th>\n",
       "      <td>/m/01bms0</td>\n",
       "      <td>Screwdriver</td>\n",
       "    </tr>\n",
       "    <tr>\n",
       "      <th>1</th>\n",
       "      <td>/m/03jbxj</td>\n",
       "      <td>Light switch</td>\n",
       "    </tr>\n",
       "    <tr>\n",
       "      <th>2</th>\n",
       "      <td>/m/0jy4k</td>\n",
       "      <td>Doughnut</td>\n",
       "    </tr>\n",
       "    <tr>\n",
       "      <th>3</th>\n",
       "      <td>/m/09gtd</td>\n",
       "      <td>Toilet paper</td>\n",
       "    </tr>\n",
       "    <tr>\n",
       "      <th>4</th>\n",
       "      <td>/m/01j5ks</td>\n",
       "      <td>Wrench</td>\n",
       "    </tr>\n",
       "  </tbody>\n",
       "</table>\n",
       "</div>"
      ],
      "text/plain": [
       "  encoded_label         label\n",
       "0     /m/01bms0   Screwdriver\n",
       "1     /m/03jbxj  Light switch\n",
       "2      /m/0jy4k      Doughnut\n",
       "3      /m/09gtd  Toilet paper\n",
       "4     /m/01j5ks        Wrench"
      ]
     },
     "execution_count": 23,
     "metadata": {},
     "output_type": "execute_result"
    }
   ],
   "source": [
    "# we have to convert coco classes to this competition's one.\n",
    "\n",
    "class_lookup_df.columns = [\"encoded_label\",\"label\"]\n",
    "# class_lookup_df['label'] = class_lookup_df['label']\n",
    "class_lookup_df.head()"
   ]
  },
  {
   "cell_type": "code",
   "execution_count": null,
   "metadata": {},
   "outputs": [],
   "source": [
    "for sub_c in d[\"Subcategory\"]:\n",
    "    print(sub_c)"
   ]
  },
  {
   "cell_type": "code",
   "execution_count": null,
   "metadata": {},
   "outputs": [],
   "source": []
  },
  {
   "cell_type": "code",
   "execution_count": null,
   "metadata": {},
   "outputs": [],
   "source": []
  },
  {
   "cell_type": "code",
   "execution_count": 4,
   "metadata": {},
   "outputs": [],
   "source": [
    "name = next(iter(d.keys()))"
   ]
  },
  {
   "cell_type": "code",
   "execution_count": 28,
   "metadata": {},
   "outputs": [],
   "source": [
    "def get_string_to_name():\n",
    "    csv_path = Path(\"__file__\").parent.joinpath(\"datasets\", \"challenge-2019-classes-description-segmentable.csv\")\n",
    "    df = pd.read_csv(str(csv_path), header=None, names=[\"class_string\", \"class_name\"])\n",
    "    class_string_to_name = dict(zip(df.class_string,df.class_name))\n",
    "    return class_string_to_name"
   ]
  },
  {
   "cell_type": "code",
   "execution_count": 29,
   "metadata": {},
   "outputs": [
    {
     "data": {
      "text/plain": [
       "'Screwdriver'"
      ]
     },
     "execution_count": 29,
     "metadata": {},
     "output_type": "execute_result"
    }
   ],
   "source": [
    "get_string_to_name()[\"/m/01bms0\"]"
   ]
  },
  {
   "cell_type": "code",
   "execution_count": null,
   "metadata": {},
   "outputs": [],
   "source": []
  },
  {
   "cell_type": "code",
   "execution_count": null,
   "metadata": {},
   "outputs": [],
   "source": []
  },
  {
   "cell_type": "code",
   "execution_count": 25,
   "metadata": {},
   "outputs": [],
   "source": [
    "import argparse\n",
    "import better_exceptions\n",
    "from pathlib import Path\n",
    "import json\n",
    "from collections import defaultdict"
   ]
  },
  {
   "cell_type": "code",
   "execution_count": 36,
   "metadata": {},
   "outputs": [],
   "source": [
    "def get_hierarchy():\n",
    "    json_path = Path(\"__file__\").parent.joinpath(\"datasets\", \"challenge-2019-label300-segmentable-hierarchy.json\")\n",
    "\n",
    "    with json_path.open(\"r\") as f:\n",
    "        d = json.load(f)\n",
    "\n",
    "    level_to_class_strings = defaultdict(list)\n",
    "    class_string_to_parent = {}\n",
    "\n",
    "    def register(c,level):\n",
    "        class_string = c[\"LabelName\"]\n",
    "        #print(get_string_to_name()[class_string])\n",
    "        level_to_class_strings[level].append(class_string)\n",
    "\n",
    "        if \"Subcategory\" in c.keys():\n",
    "            for sub_c in c[\"Subcategory\"]:\n",
    "                class_string_to_parent[sub_c[\"LabelName\"]] = class_string\n",
    "                register(sub_c, level+1)\n",
    "\n",
    "    for c in d[\"Subcategory\"]:\n",
    "        register(c,0)\n",
    "\n",
    "    class_string_to_parent[\"/m/0kmg4\"] = \"/m/0138t1\"   #teddy bear is toy not bear\n",
    "    layer0 = level_to_class_strings[0]\n",
    "    layer1 = list(set(level_to_class_strings[1] + level_to_class_strings[2]))\n",
    "    return sorted(layer0), sorted(layer1), class_string_to_parent"
   ]
  },
  {
   "cell_type": "code",
   "execution_count": 38,
   "metadata": {},
   "outputs": [],
   "source": [
    "x,y,z = get_hierarchy()"
   ]
  },
  {
   "cell_type": "code",
   "execution_count": 4,
   "metadata": {},
   "outputs": [],
   "source": [
    "json_path = Path(\"__file__\").parent.joinpath(\"datasets\", \"coco/annotations/instances_val2017.json\")\n",
    "with json_path.open(\"r\") as f:\n",
    "    d = json.load(f)"
   ]
  },
  {
   "cell_type": "code",
   "execution_count": 5,
   "metadata": {},
   "outputs": [
    {
     "data": {
      "text/plain": [
       "[{'supercategory': 'object', 'id': 1, 'name': '/m/011k07'},\n",
       " {'supercategory': 'object', 'id': 2, 'name': '/m/0120dh'},\n",
       " {'supercategory': 'object', 'id': 3, 'name': '/m/01226z'},\n",
       " {'supercategory': 'object', 'id': 4, 'name': '/m/01599'},\n",
       " {'supercategory': 'object', 'id': 5, 'name': '/m/01940j'},\n",
       " {'supercategory': 'object', 'id': 6, 'name': '/m/01bl7v'},\n",
       " {'supercategory': 'object', 'id': 7, 'name': '/m/01cmb2'},\n",
       " {'supercategory': 'object', 'id': 8, 'name': '/m/01dws'},\n",
       " {'supercategory': 'object', 'id': 9, 'name': '/m/01dxs'},\n",
       " {'supercategory': 'object', 'id': 10, 'name': '/m/01dy8n'},\n",
       " {'supercategory': 'object', 'id': 11, 'name': '/m/01f8m5'},\n",
       " {'supercategory': 'object', 'id': 12, 'name': '/m/01j51'},\n",
       " {'supercategory': 'object', 'id': 13, 'name': '/m/01lcw4'},\n",
       " {'supercategory': 'object', 'id': 14, 'name': '/m/01s55n'},\n",
       " {'supercategory': 'object', 'id': 15, 'name': '/m/01yrx'},\n",
       " {'supercategory': 'object', 'id': 16, 'name': '/m/01yx86'},\n",
       " {'supercategory': 'object', 'id': 17, 'name': '/m/01z1kdw'},\n",
       " {'supercategory': 'object', 'id': 18, 'name': '/m/024g6'},\n",
       " {'supercategory': 'object', 'id': 19, 'name': '/m/025rp__'},\n",
       " {'supercategory': 'object', 'id': 20, 'name': '/m/027pcv'},\n",
       " {'supercategory': 'object', 'id': 21, 'name': '/m/029b3'},\n",
       " {'supercategory': 'object', 'id': 22, 'name': '/m/02fq_6'},\n",
       " {'supercategory': 'object', 'id': 23, 'name': '/m/02jfl0'},\n",
       " {'supercategory': 'object', 'id': 24, 'name': '/m/02pv19'},\n",
       " {'supercategory': 'object', 'id': 25, 'name': '/m/02rgn06'},\n",
       " {'supercategory': 'object', 'id': 26, 'name': '/m/02vqfm'},\n",
       " {'supercategory': 'object', 'id': 27, 'name': '/m/02wbtzl'},\n",
       " {'supercategory': 'object', 'id': 28, 'name': '/m/02zt3'},\n",
       " {'supercategory': 'object', 'id': 29, 'name': '/m/0306r'},\n",
       " {'supercategory': 'object', 'id': 30, 'name': '/m/03bt1vf'},\n",
       " {'supercategory': 'object', 'id': 31, 'name': '/m/03fj2'},\n",
       " {'supercategory': 'object', 'id': 32, 'name': '/m/03grzl'},\n",
       " {'supercategory': 'object', 'id': 33, 'name': '/m/03m3pdh'},\n",
       " {'supercategory': 'object', 'id': 34, 'name': '/m/0449p'},\n",
       " {'supercategory': 'object', 'id': 35, 'name': '/m/046dlr'},\n",
       " {'supercategory': 'object', 'id': 36, 'name': '/m/04g2r'},\n",
       " {'supercategory': 'object', 'id': 37, 'name': '/m/04m9y'},\n",
       " {'supercategory': 'object', 'id': 38, 'name': '/m/04yqq2'},\n",
       " {'supercategory': 'object', 'id': 39, 'name': '/m/04yx4'},\n",
       " {'supercategory': 'object', 'id': 40, 'name': '/m/0584n8'},\n",
       " {'supercategory': 'object', 'id': 41, 'name': '/m/05_5p_0'},\n",
       " {'supercategory': 'object', 'id': 42, 'name': '/m/05ctyq'},\n",
       " {'supercategory': 'object', 'id': 43, 'name': '/m/05n4y'},\n",
       " {'supercategory': 'object', 'id': 44, 'name': '/m/05r655'},\n",
       " {'supercategory': 'object', 'id': 45, 'name': '/m/05z6w'},\n",
       " {'supercategory': 'object', 'id': 46, 'name': '/m/05zsy'},\n",
       " {'supercategory': 'object', 'id': 47, 'name': '/m/0633h'},\n",
       " {'supercategory': 'object', 'id': 48, 'name': '/m/06_72j'},\n",
       " {'supercategory': 'object', 'id': 49, 'name': '/m/06j2d'},\n",
       " {'supercategory': 'object', 'id': 50, 'name': '/m/06m11'},\n",
       " {'supercategory': 'object', 'id': 51, 'name': '/m/06pcq'},\n",
       " {'supercategory': 'object', 'id': 52, 'name': '/m/0703r8'},\n",
       " {'supercategory': 'object', 'id': 53, 'name': '/m/078jl'},\n",
       " {'supercategory': 'object', 'id': 54, 'name': '/m/07clx'},\n",
       " {'supercategory': 'object', 'id': 55, 'name': '/m/07dm6'},\n",
       " {'supercategory': 'object', 'id': 56, 'name': '/m/080hkjn'},\n",
       " {'supercategory': 'object', 'id': 57, 'name': '/m/081qc'},\n",
       " {'supercategory': 'object', 'id': 58, 'name': '/m/096mb'},\n",
       " {'supercategory': 'object', 'id': 59, 'name': '/m/09b5t'},\n",
       " {'supercategory': 'object', 'id': 60, 'name': '/m/09csl'},\n",
       " {'supercategory': 'object', 'id': 61, 'name': '/m/09d5_'},\n",
       " {'supercategory': 'object', 'id': 62, 'name': '/m/09ddx'},\n",
       " {'supercategory': 'object', 'id': 63, 'name': '/m/09dzg'},\n",
       " {'supercategory': 'object', 'id': 64, 'name': '/m/09f_2'},\n",
       " {'supercategory': 'object', 'id': 65, 'name': '/m/09ld4'},\n",
       " {'supercategory': 'object', 'id': 66, 'name': '/m/09rvcxw'},\n",
       " {'supercategory': 'object', 'id': 67, 'name': '/m/0bt9lr'},\n",
       " {'supercategory': 'object', 'id': 68, 'name': '/m/0by6g'},\n",
       " {'supercategory': 'object', 'id': 69, 'name': '/m/0c29q'},\n",
       " {'supercategory': 'object', 'id': 70, 'name': '/m/0ccs93'},\n",
       " {'supercategory': 'object', 'id': 71, 'name': '/m/0cd4d'},\n",
       " {'supercategory': 'object', 'id': 72, 'name': '/m/0cdn1'},\n",
       " {'supercategory': 'object', 'id': 73, 'name': '/m/0cmf2'},\n",
       " {'supercategory': 'object', 'id': 74, 'name': '/m/0cn6p'},\n",
       " {'supercategory': 'object', 'id': 75, 'name': '/m/0dbvp'},\n",
       " {'supercategory': 'object', 'id': 76, 'name': '/m/0dftk'},\n",
       " {'supercategory': 'object', 'id': 77, 'name': '/m/0dq75'},\n",
       " {'supercategory': 'object', 'id': 78, 'name': '/m/0f6wt'},\n",
       " {'supercategory': 'object', 'id': 79, 'name': '/m/0fly7'},\n",
       " {'supercategory': 'object', 'id': 80, 'name': '/m/0ftb8'},\n",
       " {'supercategory': 'object', 'id': 81, 'name': '/m/0gv1x'},\n",
       " {'supercategory': 'object', 'id': 82, 'name': '/m/0h23m'},\n",
       " {'supercategory': 'object', 'id': 83, 'name': '/m/0h2r6'},\n",
       " {'supercategory': 'object', 'id': 84, 'name': '/m/0h8my_4'},\n",
       " {'supercategory': 'object', 'id': 85, 'name': '/m/0jly1'},\n",
       " {'supercategory': 'object', 'id': 86, 'name': '/m/0kmg4'},\n",
       " {'supercategory': 'object', 'id': 87, 'name': '/m/0wdt60w'}]"
      ]
     },
     "execution_count": 5,
     "metadata": {},
     "output_type": "execute_result"
    }
   ],
   "source": [
    "d[\"categories\"]"
   ]
  },
  {
   "cell_type": "code",
   "execution_count": null,
   "metadata": {},
   "outputs": [],
   "source": []
  }
 ],
 "metadata": {
  "kernelspec": {
   "display_name": "Python 3",
   "language": "python",
   "name": "python3"
  },
  "language_info": {
   "codemirror_mode": {
    "name": "ipython",
    "version": 3
   },
   "file_extension": ".py",
   "mimetype": "text/x-python",
   "name": "python",
   "nbconvert_exporter": "python",
   "pygments_lexer": "ipython3",
   "version": "3.7.3"
  }
 },
 "nbformat": 4,
 "nbformat_minor": 2
}
